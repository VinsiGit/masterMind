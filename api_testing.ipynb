{
 "cells": [
  {
   "cell_type": "code",
   "execution_count": 2,
   "id": "initial_id",
   "metadata": {},
   "outputs": [
    {
     "name": "stdout",
     "output_type": "stream",
     "text": [
      "{'recipe': \"<div><p>Here's a unique recipe that incorporates apples in a creative way:</p><br><br><p>Pan-Seared Apple and Brie Tartlets with Caramelized Pecans and Honey Glaze</p><br><br><p>Ingredients:</p><br><br><ul><br><li>1 sheet of frozen puff pastry, thawed</li><br><li>2-3 apples (Granny Smith or other tart variety), peeled and diced</li><br><li>1/4 cup brie cheese, crumbled</li><br><li>1 tablespoon honey</li><br><li>1/4 cup caramelized pecans (see note)</li><br><li>Fresh thyme leaves for garnish</li><br></ul><br><br><p>Instructions:</p><br><br><ol><br><li>Preheat the oven to 400°F (200°C). Line a baking sheet with parchment paper.</li><br><li>Roll out the puff pastry on a floured surface to a thickness of about 1/8 inch. Cut into small squares, about 3 inches per side.</li><br><li>In a bowl, mix together diced apples and crumbled brie cheese. Season with salt and pepper to taste.</li><br><li>Spoon a small amount of apple-brie mixture onto one half of each pastry square, leaving a 1/2-inch border around the edges.</li><br><li>Fold the other half of the pastry square over the filling, pressing edges to seal. Use a fork to crimp the edges.</li><br><li>Brush the tops with a little bit of milk or beaten egg for a golden glaze.</li><br><li>Bake the tartlets on the prepared baking sheet for 20-25 minutes, or until golden brown.</li><br><li>While the tartlets are baking, prepare the caramelized pecans by cooking them in a skillet over medium heat, stirring frequently, until they're dark and fragrant (about 5-7 minutes).</li><br><li>Remove the tartlets from the oven and let cool for a few minutes. Drizzle with honey and sprinkle with caramelized pecans.</li><br><li>Garnish with fresh thyme leaves and serve warm.</li><br></ol><br><br><p>Note: To caramelize the pecans, heat them in a skillet over medium heat, stirring frequently, until they're dark brown and fragrant (about 5-7 minutes).</p><br></div>\"}\n"
     ]
    }
   ],
   "source": [
    "import requests\n",
    "\n",
    "# Replace 'path_to_image.jpg' with the path to the image you want to upload\n",
    "with open('imgs/apple.jpg', 'rb') as image_file:\n",
    "    response = requests.post(\"http://127.0.0.1:8000/generate_recipe\", files={\"file\": image_file})\n",
    "\n",
    "# Print the recipe returned from the API\n",
    "print(response.json())"
   ]
  },
  {
   "cell_type": "code",
   "execution_count": null,
   "id": "5f84128f-50a9-4e73-839c-efafd105fc13",
   "metadata": {},
   "outputs": [],
   "source": []
  }
 ],
 "metadata": {
  "kernelspec": {
   "display_name": "Python 3 (ipykernel)",
   "language": "python",
   "name": "python3"
  },
  "language_info": {
   "codemirror_mode": {
    "name": "ipython",
    "version": 3
   },
   "file_extension": ".py",
   "mimetype": "text/x-python",
   "name": "python",
   "nbconvert_exporter": "python",
   "pygments_lexer": "ipython3",
   "version": "3.11.10"
  }
 },
 "nbformat": 4,
 "nbformat_minor": 5
}
