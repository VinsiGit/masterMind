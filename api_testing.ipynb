{
 "cells": [
  {
   "cell_type": "code",
   "execution_count": 2,
   "id": "initial_id",
   "metadata": {},
   "outputs": [
    {
     "name": "stdout",
     "output_type": "stream",
     "text": [
      "{'recipe': \"<div><p>Here's a unique recipe that incorporates apples in a creative way:</p><br><br><p><strong>Spiced Apple Cider Donut Holes with Cranberry-Apple Compote</strong></p><br><br><p>This recipe combines the warm spices of cinnamon, nutmeg, and ginger with the sweetness of apples to create a delicious dessert.</p><br><br><p>Ingredients:</p><br><br><p>For the donut holes:</p><br><br><ul><br><li>2 large apples, peeled and chopped</li><br><li>1/4 cup granulated sugar</li><br><li>1/4 cup all-purpose flour</li><br><li>1/2 teaspoon ground cinnamon</li><br><li>1/4 teaspoon ground nutmeg</li><br><li>1/8 teaspoon ground ginger</li><br><li>1/4 cup whole milk</li><br><li>2 large eggs</li><br><li>2 tablespoons unsalted butter, melted</li><br></ul><br><br><p>For the cranberry-apple compote:</p><br><br><ul><br><li>2 cups fresh or frozen cranberries</li><br><li>1 large apple, peeled and chopped</li><br><li>1/4 cup granulated sugar</li><br><li>2 tablespoons orange juice</li><br><li>1 tablespoon water</li><br><li>1/4 teaspoon ground cinnamon</li><br></ul><br><br><p>Instructions:</p><br><br><ol><br><li>Preheat the oven to 375°F (190°C). Line a baking sheet with parchment paper.</li><br><li>In a medium bowl, whisk together the chopped apple, granulated sugar, flour, cinnamon, nutmeg, and ginger.</li><br><li>In a separate bowl, whisk together the milk, eggs, and melted butter.</li><br><li>Add the wet ingredients to the dry ingredients and stir until combined.</li><br><li>Drop the mixture by tablespoonfuls into the prepared baking sheet, about 2 inches apart.</li><br><li>Bake for 12-15 minutes, or until the donut holes are golden brown and cooked through.</li><br><li>While the donut holes are baking, prepare the cranberry-apple compote. In a medium saucepan, combine the chopped apple, cranberries, granulated sugar, orange juice, water, and cinnamon. Bring to a boil over medium heat, then reduce the heat to low and simmer for 10-15 minutes, or until the fruit is tender.</li><br><li>Remove the donut holes from the oven and let them cool on a wire rack.</li><br><li>Serve the warm donut holes with a spoonful of the cranberry-apple compote.</li><br></ol><br><br><p>These spicy-sweet donut holes are perfect for a fall or winter gathering, and the cranberry-apple compote adds a tangy and fruity element to the dish.</p><br></div>\"}\n"
     ]
    }
   ],
   "source": [
    "import requests\n",
    "\n",
    "# Replace 'path_to_image.jpg' with the path to the image you want to upload\n",
    "with open('imgs/apple.jpg', 'rb') as image_file:\n",
    "    response = requests.post(\"http://127.0.0.1:8000/generate_recipe\", files={\"file\": image_file})\n",
    "\n",
    "# Print the recipe returned from the API\n",
    "print(response.json())"
   ]
  },
  {
   "cell_type": "code",
   "execution_count": null,
   "id": "5f84128f-50a9-4e73-839c-efafd105fc13",
   "metadata": {},
   "outputs": [],
   "source": []
  }
 ],
 "metadata": {
  "kernelspec": {
   "display_name": "Python 3 (ipykernel)",
   "language": "python",
   "name": "python3"
  },
  "language_info": {
   "codemirror_mode": {
    "name": "ipython",
    "version": 3
   },
   "file_extension": ".py",
   "mimetype": "text/x-python",
   "name": "python",
   "nbconvert_exporter": "python",
   "pygments_lexer": "ipython3",
   "version": "3.11.10"
  }
 },
 "nbformat": 4,
 "nbformat_minor": 5
}
