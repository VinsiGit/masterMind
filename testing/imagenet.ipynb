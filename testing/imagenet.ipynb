{
 "cells": [
  {
   "cell_type": "code",
   "execution_count": 1,
   "id": "ebb797b5-b46f-4800-bab5-c0d5baed5221",
   "metadata": {
    "scrolled": true
   },
   "outputs": [],
   "source": [
    "import torch\n",
    "from transformers import AutoModelForImageClassification, AutoImageProcessor\n",
    "from torchvision import transforms\n",
    "from PIL import Image\n",
    "import cv2"
   ]
  },
  {
   "cell_type": "code",
   "execution_count": 2,
   "id": "083e79b3-bb2f-430f-a0ab-f189075b2922",
   "metadata": {},
   "outputs": [],
   "source": [
    "model = AutoModelForImageClassification.from_pretrained(\"jazzmacedo/fruits-and-vegetables-detector-36\")"
   ]
  },
  {
   "cell_type": "code",
   "execution_count": 3,
   "id": "c81bacbd-432a-453b-a420-b5ae1d342dbb",
   "metadata": {},
   "outputs": [],
   "source": [
    "# Define the preprocessing transformation (for compatibility with AutoImageProcessor)\n",
    "preprocess = transforms.Compose([\n",
    "    transforms.Resize((224, 224)),\n",
    "    transforms.ToTensor()\n",
    "])"
   ]
  },
  {
   "cell_type": "code",
   "execution_count": 4,
   "id": "e1317e83-cadd-4792-82f4-b678df5fbe55",
   "metadata": {},
   "outputs": [],
   "source": [
    "def classify_image(image_path: str) -> list:\n",
    "    # Read and preprocess the image\n",
    "    image = cv2.imread(image_path)\n",
    "    image = cv2.cvtColor(image, cv2.COLOR_BGR2RGB)\n",
    "    pil_image = Image.fromarray(image)\n",
    "    input_tensor = preprocess(pil_image).unsqueeze(0)\n",
    "\n",
    "    # Get predictions without gradients\n",
    "    with torch.no_grad():\n",
    "        outputs = model(input_tensor)\n",
    "    \n",
    "    # Get top 5 predictions\n",
    "    top_5_probs, top_5_indices = torch.topk(outputs.logits, k=5, dim=1)\n",
    "    top_5_probs = top_5_probs.squeeze().tolist()\n",
    "    top_5_indices = top_5_indices.squeeze().tolist()\n",
    "\n",
    "    # Map indices to labels\n",
    "    top_5_predictions = [(model.config.id2label[idx], prob) for idx, prob in zip(top_5_indices, top_5_probs)]\n",
    "    \n",
    "    return top_5_predictions"
   ]
  },
  {
   "cell_type": "code",
   "execution_count": 6,
   "id": "bc92a570-8420-4764-8be3-d87ac8e4048c",
   "metadata": {},
   "outputs": [
    {
     "name": "stdout",
     "output_type": "stream",
     "text": [
      "Detected label: [('pear', -0.7279641032218933), ('onion', -1.9550637006759644), ('garlic', -1.9866228103637695), ('turnip', -3.0375967025756836), ('potato', -3.1575419902801514)]\n"
     ]
    }
   ],
   "source": [
    "# Example usage\n",
    "image_path = \"../imgs/duck.jpg\"  # Update with your image path\n",
    "label = classify_image(image_path)\n",
    "print(\"Detected label:\", label)"
   ]
  },
  {
   "cell_type": "code",
   "execution_count": null,
   "id": "66f402bb-dfc7-43ac-a7fb-7dc9b0567f13",
   "metadata": {},
   "outputs": [],
   "source": []
  }
 ],
 "metadata": {
  "kernelspec": {
   "display_name": "Python 3 (ipykernel)",
   "language": "python",
   "name": "python3"
  },
  "language_info": {
   "codemirror_mode": {
    "name": "ipython",
    "version": 3
   },
   "file_extension": ".py",
   "mimetype": "text/x-python",
   "name": "python",
   "nbconvert_exporter": "python",
   "pygments_lexer": "ipython3",
   "version": "3.11.10"
  }
 },
 "nbformat": 4,
 "nbformat_minor": 5
}
