{
 "cells": [
  {
   "cell_type": "code",
   "execution_count": 1,
   "id": "initial_id",
   "metadata": {},
   "outputs": [],
   "source": [
    "import ollama\n",
    "from PIL import Image\n",
    "import io\n",
    "import base64\n",
    "import torch"
   ]
  },
  {
   "cell_type": "code",
   "execution_count": 2,
   "id": "dbbb5f26-be6d-44eb-b022-42c4186a428c",
   "metadata": {},
   "outputs": [],
   "source": [
    "model = 'llama3.2:1b'  # Set your model name here"
   ]
  },
  {
   "cell_type": "code",
   "execution_count": 3,
   "id": "1f8300b9-dc60-48ff-9209-3902fe79c19b",
   "metadata": {},
   "outputs": [
    {
     "name": "stdout",
     "output_type": "stream",
     "text": [
      "CUDA is available. GPU is being used.\n"
     ]
    }
   ],
   "source": [
    "if torch.cuda.is_available():\n",
    "    print(\"CUDA is available. GPU is being used.\")\n",
    "else:\n",
    "    print(\"CUDA is not available. Using CPU.\")"
   ]
  },
  {
   "cell_type": "code",
   "execution_count": 4,
   "id": "d7d57545-1731-4933-9c6e-1e1522ba0076",
   "metadata": {},
   "outputs": [],
   "source": [
    "response = ollama.chat(model=model, messages=[\n",
    "    {\n",
    "        'role': \"user\",\n",
    "        'content': \"What's the best way to make pasta pesto with chicken?\"\n",
    "    },\n",
    "])"
   ]
  },
  {
   "cell_type": "code",
   "execution_count": 5,
   "id": "c0d905cf-8df6-4d71-9b81-15bf9d8a70b2",
   "metadata": {},
   "outputs": [
    {
     "name": "stdout",
     "output_type": "stream",
     "text": [
      "Making pasta pesto with chicken is a fantastic way to combine two of your favorite flavors. Here's a simple recipe to get you started:\n",
      "\n",
      "Ingredients:\n",
      "\n",
      "* 1 pound boneless, skinless chicken breast or thighs, cut into bite-sized pieces\n",
      "* 2 cups fresh basil leaves\n",
      "* 1/3 cup pine nuts (or walnuts)\n",
      "* 1/2 cup grated Parmesan cheese\n",
      "* 1/2 cup extra-virgin olive oil\n",
      "* 2 cloves garlic, minced\n",
      "* Salt and pepper to taste\n",
      "* 8 ounces pasta of your choice (linguine, fettuccine, or spaghetti work well)\n",
      "\n",
      "Instructions:\n",
      "\n",
      "1. In a food processor or blender, combine basil leaves, pine nuts, Parmesan cheese, and garlic. Process until the mixture is well combined and slightly smooth.\n",
      "2. With the processor running, slowly pour in the olive oil through the top. Process until the pesto reaches your desired consistency.\n",
      "3. Add the chicken to the pesto and process until the meat is evenly coated.\n",
      "4. Cook pasta according to package instructions until al dente. Drain and set aside.\n",
      "5. In a large skillet, combine the cooked pasta, chicken-pesto mixture, salt, and pepper. Toss everything together until the pasta is well coated with the pesto sauce.\n",
      "6. Serve immediately, garnished with additional basil leaves if desired.\n",
      "\n",
      "Tips:\n",
      "\n",
      "* Make sure to use fresh, high-quality ingredients for the best flavor.\n",
      "* Don't overprocess the basil – you want it to retain some of its texture and flavor.\n",
      "* If using chicken breast, cook it until it's fully cooked before adding it to the pesto. Overcooked chicken can be dry and tough.\n",
      "* You can also add other ingredients to customize your pasta pesto, such as cherry tomatoes or sun-dried peppers.\n",
      "\n",
      "Enjoy your delicious homemade pasta pesto with chicken!\n"
     ]
    }
   ],
   "source": [
    "print(response['message']['content'])"
   ]
  },
  {
   "cell_type": "code",
   "execution_count": null,
   "id": "ad71b750-3906-450f-aed0-13c05009834e",
   "metadata": {},
   "outputs": [],
   "source": []
  }
 ],
 "metadata": {
  "kernelspec": {
   "display_name": "Python 3 (ipykernel)",
   "language": "python",
   "name": "python3"
  },
  "language_info": {
   "codemirror_mode": {
    "name": "ipython",
    "version": 3
   },
   "file_extension": ".py",
   "mimetype": "text/x-python",
   "name": "python",
   "nbconvert_exporter": "python",
   "pygments_lexer": "ipython3",
   "version": "3.11.10"
  }
 },
 "nbformat": 4,
 "nbformat_minor": 5
}
