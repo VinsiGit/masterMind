{
 "cells": [
  {
   "cell_type": "code",
   "execution_count": null,
   "id": "initial_id",
   "metadata": {},
   "outputs": [],
   "source": [
    "import ollama\n",
    "import torch\n",
    "import torchvision.transforms as transforms\n",
    "from torchvision import models\n",
    "from PIL import Image\n"
   ]
  },
  {
   "cell_type": "code",
   "execution_count": 2,
   "id": "dbbb5f26-be6d-44eb-b022-42c4186a428c",
   "metadata": {},
   "outputs": [],
   "source": [
    "model = 'llama3.2:1b'  # Set your model name here"
   ]
  },
  {
   "cell_type": "code",
   "execution_count": 3,
   "id": "1f8300b9-dc60-48ff-9209-3902fe79c19b",
   "metadata": {},
   "outputs": [
    {
     "name": "stdout",
     "output_type": "stream",
     "text": [
      "CUDA is available. GPU is being used.\n"
     ]
    }
   ],
   "source": [
    "if torch.cuda.is_available():\n",
    "    print(\"CUDA is available. GPU is being used.\")\n",
    "else:\n",
    "    print(\"CUDA is not available. Using CPU.\")"
   ]
  },
  {
   "cell_type": "code",
   "execution_count": null,
   "id": "deebf445",
   "metadata": {},
   "outputs": [],
   "source": [
    "# Load pre-trained image model (ResNet)\n",
    "image_model = models.resnet50(pretrained=True)\n",
    "image_model.eval()"
   ]
  },
  {
   "cell_type": "code",
   "execution_count": null,
   "id": "5bbd3dde",
   "metadata": {},
   "outputs": [],
   "source": [
    "# Preprocess the image\n",
    "preprocess = transforms.Compose([\n",
    "    transforms.Resize(256),\n",
    "    transforms.CenterCrop(224),\n",
    "    transforms.ToTensor(),\n",
    "    transforms.Normalize(mean=[0.485, 0.456, 0.406], std=[0.229, 0.224, 0.225]),\n",
    "])\n",
    "\n",
    "def get_image_features(image_path):\n",
    "    image = Image.open(image_path)\n",
    "    image = preprocess(image).unsqueeze(0)\n",
    "    with torch.no_grad():\n",
    "        features = image_model(image)\n",
    "    return features"
   ]
  },
  {
   "cell_type": "code",
   "execution_count": null,
   "id": "5be78378",
   "metadata": {},
   "outputs": [],
   "source": [
    "print(get_image_features(\"imgs/duck.jpg\"))"
   ]
  },
  {
   "cell_type": "code",
   "execution_count": null,
   "id": "d7d57545-1731-4933-9c6e-1e1522ba0076",
   "metadata": {},
   "outputs": [],
   "source": [
    "response = ollama.chat(model=model, messages=[\n",
    "    {\n",
    "        'role': \"user\",\n",
    "        'content': f\"Whats the best way to make pasta pesto with {get_image_features(\"imgs/duck.jpg\")}?\"\n",
    "    },\n",
    "])"
   ]
  },
  {
   "cell_type": "code",
   "execution_count": 5,
   "id": "c0d905cf-8df6-4d71-9b81-15bf9d8a70b2",
   "metadata": {},
   "outputs": [
    {
     "name": "stdout",
     "output_type": "stream",
     "text": [
      "Making pasta pesto with chicken is a great idea. Here's a simple recipe to get you started:\n",
      "\n",
      "Ingredients:\n",
      "\n",
      "* 1 pound boneless, skinless chicken breast or thighs, cut into bite-sized pieces\n",
      "* 2 cups fresh basil leaves\n",
      "* 1/3 cup pine nuts (or walnuts)\n",
      "* 1/2 cup grated Parmesan cheese\n",
      "* 1/2 cup extra virgin olive oil\n",
      "* 2 cloves garlic, minced\n",
      "* Salt and pepper to taste\n",
      "* 8 ounces pasta of your choice (e.g., linguine, fettuccine, or spaghetti)\n",
      "\n",
      "Instructions:\n",
      "\n",
      "1. **Prepare the chicken**: In a small bowl, whisk together chicken pieces, salt, and pepper.\n",
      "2. **Cook the chicken**: Heat a large skillet over medium-high heat. Add the chicken and cook until browned and cooked through, about 5-7 minutes. Remove from heat and set aside.\n",
      "3. **Make the pesto sauce**: In a food processor or blender, combine basil leaves, pine nuts, garlic, and Parmesan cheese. Process until well combined and slightly smooth.\n",
      "4. **Add olive oil**: With the processor running, slowly pour in olive oil through the top. Process until the pesto sauce reaches your desired consistency.\n",
      "5. **Combine chicken and pesto**: Add cooked chicken back into the processor with the pesto sauce. Process until everything is well combined.\n",
      "6. **Toss with pasta**: Add cooked pasta to the processor and toss everything together until the pasta is well coated with the pesto sauce.\n",
      "7. **Serve**: Divide the pasta among plates, garnish with additional basil leaves if desired.\n",
      "\n",
      "Tips:\n",
      "\n",
      "* Use high-quality ingredients, including fresh basil and good-quality Parmesan cheese.\n",
      "* Don't overprocess the pesto sauce, as it can become too thin and lose its texture.\n",
      "* Adjust the amount of garlic to your taste. Some people prefer a stronger garlic flavor, while others prefer a more subtle hint.\n",
      "* You can also add other ingredients to customize the pesto sauce to your liking, such as cherry tomatoes or sun-dried peppers.\n",
      "\n",
      "Enjoy your delicious pasta pesto with chicken!\n"
     ]
    }
   ],
   "source": [
    "print(response['message']['content'])"
   ]
  },
  {
   "cell_type": "code",
   "execution_count": null,
   "id": "ad71b750-3906-450f-aed0-13c05009834e",
   "metadata": {},
   "outputs": [],
   "source": []
  }
 ],
 "metadata": {
  "kernelspec": {
   "display_name": "Python 3 (ipykernel)",
   "language": "python",
   "name": "python3"
  },
  "language_info": {
   "codemirror_mode": {
    "name": "ipython",
    "version": 3
   },
   "file_extension": ".py",
   "mimetype": "text/x-python",
   "name": "python",
   "nbconvert_exporter": "python",
   "pygments_lexer": "ipython3",
   "version": "3.11.10"
  }
 },
 "nbformat": 4,
 "nbformat_minor": 5
}
